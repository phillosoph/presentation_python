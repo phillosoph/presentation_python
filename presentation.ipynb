{
 "cells": [
  {
   "cell_type": "code",
   "execution_count": 8,
   "id": "d3b7a12c",
   "metadata": {
    "slideshow": {
     "slide_type": "skip"
    }
   },
   "outputs": [],
   "source": [
    "import pandas as pd\n",
    "import numpy as np\n",
    "import matplotlib.pyplot as plt"
   ]
  },
  {
   "cell_type": "markdown",
   "id": "45b1c4eb",
   "metadata": {
    "slideshow": {
     "slide_type": "slide"
    }
   },
   "source": [
    "<font size = \"8\">Elektrauto AG</font>\n",
    "    \n",
    "<i>HWR Berlin, Sommersemester 2024</i>\n",
    "    \n",
    "<i>Phillip Raouf, Jehon Demoli</i>"
   ]
  },
  {
   "cell_type": "markdown",
   "id": "10627eec",
   "metadata": {
    "slideshow": {
     "slide_type": "slide"
    }
   },
   "source": [
    "## Berechnung der durchschnittlichen Renditen"
   ]
  },
  {
   "cell_type": "markdown",
   "id": "bf82ba40",
   "metadata": {
    "slideshow": {
     "slide_type": "slide"
    }
   },
   "source": [
    "```python\n",
    "file = 'data/TSLA.csv'\n",
    "\n",
    "df = pd.read_csv(file, decimal = \".\")\n",
    "\n",
    "df = df [['Date', 'Close']]\n",
    "\n",
    "df['Date'] = pd.to_datetime(df['Date'], format = '%Y-%m-%d')\n",
    "\n",
    "df = df[(df['Date'].dt.year >= 2011) & (df['Date'].dt.year <= 2022)]\n",
    "\n",
    "df['ln_Returns'] = (np.log(df['Close']) - np.log(df['Close'].shift(1)))*100\n",
    "\n",
    "df_avg = df['ln_Returns'].groupby(df['Date'].dt.year).mean()\n",
    "\n",
    "df_avg = pd.DataFrame(df_avg).reset_index()\n",
    "```"
   ]
  },
  {
   "cell_type": "code",
   "execution_count": 4,
   "id": "6e57aa2a",
   "metadata": {
    "slideshow": {
     "slide_type": "subslide"
    }
   },
   "outputs": [
    {
     "data": {
      "text/html": [
       "<div>\n",
       "<style scoped>\n",
       "    .dataframe tbody tr th:only-of-type {\n",
       "        vertical-align: middle;\n",
       "    }\n",
       "\n",
       "    .dataframe tbody tr th {\n",
       "        vertical-align: top;\n",
       "    }\n",
       "\n",
       "    .dataframe thead th {\n",
       "        text-align: right;\n",
       "    }\n",
       "</style>\n",
       "<table border=\"1\" class=\"dataframe\">\n",
       "  <thead>\n",
       "    <tr style=\"text-align: right;\">\n",
       "      <th></th>\n",
       "      <th>Date</th>\n",
       "      <th>ln_Returns</th>\n",
       "    </tr>\n",
       "  </thead>\n",
       "  <tbody>\n",
       "    <tr>\n",
       "      <th>0</th>\n",
       "      <td>2011</td>\n",
       "      <td>0.028026</td>\n",
       "    </tr>\n",
       "    <tr>\n",
       "      <th>1</th>\n",
       "      <td>2012</td>\n",
       "      <td>0.068209</td>\n",
       "    </tr>\n",
       "    <tr>\n",
       "      <th>2</th>\n",
       "      <td>2013</td>\n",
       "      <td>0.591654</td>\n",
       "    </tr>\n",
       "    <tr>\n",
       "      <th>3</th>\n",
       "      <td>2014</td>\n",
       "      <td>0.155168</td>\n",
       "    </tr>\n",
       "    <tr>\n",
       "      <th>4</th>\n",
       "      <td>2015</td>\n",
       "      <td>0.030221</td>\n",
       "    </tr>\n",
       "  </tbody>\n",
       "</table>\n",
       "</div>"
      ],
      "text/plain": [
       "   Date  ln_Returns\n",
       "0  2011    0.028026\n",
       "1  2012    0.068209\n",
       "2  2013    0.591654\n",
       "3  2014    0.155168\n",
       "4  2015    0.030221"
      ]
     },
     "execution_count": 4,
     "metadata": {},
     "output_type": "execute_result"
    }
   ],
   "source": [
    "file = 'data/TSLA.csv'\n",
    "\n",
    "df = pd.read_csv(file, decimal = \".\")\n",
    "\n",
    "df = df [['Date', 'Close']]\n",
    "\n",
    "df['Date'] = pd.to_datetime(df['Date'], format = '%Y-%m-%d')\n",
    "\n",
    "df = df[(df['Date'].dt.year >= 2011) & (df['Date'].dt.year <= 2022)]\n",
    "\n",
    "df['ln_Returns'] = (np.log(df['Close']) - np.log(df['Close'].shift(1)))*100\n",
    "\n",
    "df_avg = df['ln_Returns'].groupby(df['Date'].dt.year).mean()\n",
    "\n",
    "df_avg = pd.DataFrame(df_avg).reset_index()\n",
    "\n",
    "df_avg.head()"
   ]
  },
  {
   "cell_type": "markdown",
   "id": "84f706fe",
   "metadata": {
    "slideshow": {
     "slide_type": "slide"
    }
   },
   "source": [
    "## Abbildung der durchschnittlichen Renditen miau"
   ]
  },
  {
   "cell_type": "code",
   "execution_count": 10,
   "id": "60432bf2",
   "metadata": {
    "slideshow": {
     "slide_type": "fragment"
    }
   },
   "outputs": [
    {
     "data": {
      "image/png": "[encoded data removed]",
      "text/plain": [
       "<Figure size 640x480 with 1 Axes>"
      ]
     },
     "metadata": {},
     "output_type": "display_data"
    }
   ],
   "source": [
    "plt.plot(df_avg['Date'], df_avg['ln_Returns']);"
   ]
  },
  {
   "cell_type": "markdown",
   "id": "2cee8b99",
   "metadata": {
    "slideshow": {
     "slide_type": "slide"
    }
   },
   "source": [
    "<center>\n",
    "<font size = \"8\">Vielen Dank fuer Ihre Aufmerksamkeit!</font>\n",
    "</center>"
   ]
  }
 ],
 "metadata": {
  "celltoolbar": "Slideshow",
  "kernelspec": {
   "display_name": "Python 3 (ipykernel)",
   "language": "python",
   "name": "python3"
  },
  "language_info": {
   "codemirror_mode": {
    "name": "ipython",
    "version": 3
   },
   "file_extension": ".py",
   "mimetype": "text/x-python",
   "name": "python",
   "nbconvert_exporter": "python",
   "pygments_lexer": "ipython3",
   "version": "3.11.5"
  }
 },
 "nbformat": 4,
 "nbformat_minor": 5
}
